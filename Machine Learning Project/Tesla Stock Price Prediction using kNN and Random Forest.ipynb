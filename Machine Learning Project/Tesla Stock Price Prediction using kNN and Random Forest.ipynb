{
 "cells": [
  {
   "cell_type": "markdown",
   "metadata": {
    "heading_collapsed": true
   },
   "source": [
    "# Preparation\n"
   ]
  },
  {
   "cell_type": "code",
   "execution_count": 82,
   "metadata": {
    "ExecuteTime": {
     "end_time": "2020-10-09T16:30:48.689642Z",
     "start_time": "2020-10-09T16:30:48.619163Z"
    },
    "hidden": true
   },
   "outputs": [],
   "source": [
    "import math\n",
    "\n",
    "from time import time\n",
    "import datetime\n",
    "\n",
    "import pandas as pd\n",
    "import numpy as np\n",
    "import quandl\n",
    "\n",
    "#to plot within notebook\n",
    "import matplotlib.pyplot as plt\n",
    "%matplotlib inline\n",
    "\n",
    "#setting figure size\n",
    "from matplotlib.pylab import rcParams\n",
    "rcParams['figure.figsize'] = 20,10"
   ]
  },
  {
   "cell_type": "markdown",
   "metadata": {
    "hidden": true
   },
   "source": [
    "## Data Cleaning"
   ]
  },
  {
   "cell_type": "code",
   "execution_count": 14,
   "metadata": {
    "ExecuteTime": {
     "end_time": "2020-10-09T15:00:56.544802Z",
     "start_time": "2020-10-09T15:00:56.508146Z"
    },
    "hidden": true
   },
   "outputs": [],
   "source": [
    "df = pd.read_csv('tesla.csv')\n",
    "df.index = df['Date']\n",
    "df = df.sort_index(ascending = True, axis = 0)"
   ]
  },
  {
   "cell_type": "code",
   "execution_count": 34,
   "metadata": {
    "ExecuteTime": {
     "end_time": "2020-10-09T15:25:49.609961Z",
     "start_time": "2020-10-09T15:25:49.576640Z"
    },
    "hidden": true
   },
   "outputs": [
    {
     "data": {
      "text/html": [
       "<div>\n",
       "<style scoped>\n",
       "    .dataframe tbody tr th:only-of-type {\n",
       "        vertical-align: middle;\n",
       "    }\n",
       "\n",
       "    .dataframe tbody tr th {\n",
       "        vertical-align: top;\n",
       "    }\n",
       "\n",
       "    .dataframe thead th {\n",
       "        text-align: right;\n",
       "    }\n",
       "</style>\n",
       "<table border=\"1\" class=\"dataframe\">\n",
       "  <thead>\n",
       "    <tr style=\"text-align: right;\">\n",
       "      <th></th>\n",
       "      <th>Date</th>\n",
       "      <th>Date.1</th>\n",
       "      <th>Open</th>\n",
       "      <th>High</th>\n",
       "      <th>Low</th>\n",
       "      <th>Close</th>\n",
       "      <th>Volume</th>\n",
       "      <th>Ex-Dividend</th>\n",
       "      <th>Split Ratio</th>\n",
       "      <th>Adj. Open</th>\n",
       "      <th>...</th>\n",
       "      <th>Adj. Volume</th>\n",
       "      <th>ds</th>\n",
       "      <th>y</th>\n",
       "      <th>Daily Change</th>\n",
       "      <th>Year</th>\n",
       "      <th>Month</th>\n",
       "      <th>Week</th>\n",
       "      <th>Day</th>\n",
       "      <th>Dayofweek</th>\n",
       "      <th>Dayofyear</th>\n",
       "    </tr>\n",
       "    <tr>\n",
       "      <th>Date</th>\n",
       "      <th></th>\n",
       "      <th></th>\n",
       "      <th></th>\n",
       "      <th></th>\n",
       "      <th></th>\n",
       "      <th></th>\n",
       "      <th></th>\n",
       "      <th></th>\n",
       "      <th></th>\n",
       "      <th></th>\n",
       "      <th></th>\n",
       "      <th></th>\n",
       "      <th></th>\n",
       "      <th></th>\n",
       "      <th></th>\n",
       "      <th></th>\n",
       "      <th></th>\n",
       "      <th></th>\n",
       "      <th></th>\n",
       "      <th></th>\n",
       "      <th></th>\n",
       "    </tr>\n",
       "  </thead>\n",
       "  <tbody>\n",
       "    <tr>\n",
       "      <th>2012-01-03</th>\n",
       "      <td>2012-01-03</td>\n",
       "      <td>2012-01-03</td>\n",
       "      <td>28.94</td>\n",
       "      <td>29.50</td>\n",
       "      <td>27.65</td>\n",
       "      <td>28.08</td>\n",
       "      <td>928100.0</td>\n",
       "      <td>0.0</td>\n",
       "      <td>1.0</td>\n",
       "      <td>28.94</td>\n",
       "      <td>...</td>\n",
       "      <td>928100.0</td>\n",
       "      <td>2012-01-03</td>\n",
       "      <td>28.08</td>\n",
       "      <td>-0.86</td>\n",
       "      <td>2012</td>\n",
       "      <td>1</td>\n",
       "      <td>1</td>\n",
       "      <td>3</td>\n",
       "      <td>1</td>\n",
       "      <td>3</td>\n",
       "    </tr>\n",
       "    <tr>\n",
       "      <th>2012-01-04</th>\n",
       "      <td>2012-01-04</td>\n",
       "      <td>2012-01-04</td>\n",
       "      <td>28.21</td>\n",
       "      <td>28.67</td>\n",
       "      <td>27.50</td>\n",
       "      <td>27.71</td>\n",
       "      <td>630100.0</td>\n",
       "      <td>0.0</td>\n",
       "      <td>1.0</td>\n",
       "      <td>28.21</td>\n",
       "      <td>...</td>\n",
       "      <td>630100.0</td>\n",
       "      <td>2012-01-04</td>\n",
       "      <td>27.71</td>\n",
       "      <td>-0.50</td>\n",
       "      <td>2012</td>\n",
       "      <td>1</td>\n",
       "      <td>1</td>\n",
       "      <td>4</td>\n",
       "      <td>2</td>\n",
       "      <td>4</td>\n",
       "    </tr>\n",
       "    <tr>\n",
       "      <th>2012-01-05</th>\n",
       "      <td>2012-01-05</td>\n",
       "      <td>2012-01-05</td>\n",
       "      <td>27.76</td>\n",
       "      <td>27.93</td>\n",
       "      <td>26.85</td>\n",
       "      <td>27.12</td>\n",
       "      <td>1005500.0</td>\n",
       "      <td>0.0</td>\n",
       "      <td>1.0</td>\n",
       "      <td>27.76</td>\n",
       "      <td>...</td>\n",
       "      <td>1005500.0</td>\n",
       "      <td>2012-01-05</td>\n",
       "      <td>27.12</td>\n",
       "      <td>-0.64</td>\n",
       "      <td>2012</td>\n",
       "      <td>1</td>\n",
       "      <td>1</td>\n",
       "      <td>5</td>\n",
       "      <td>3</td>\n",
       "      <td>5</td>\n",
       "    </tr>\n",
       "    <tr>\n",
       "      <th>2012-01-06</th>\n",
       "      <td>2012-01-06</td>\n",
       "      <td>2012-01-06</td>\n",
       "      <td>27.20</td>\n",
       "      <td>27.79</td>\n",
       "      <td>26.41</td>\n",
       "      <td>26.91</td>\n",
       "      <td>986300.0</td>\n",
       "      <td>0.0</td>\n",
       "      <td>1.0</td>\n",
       "      <td>27.20</td>\n",
       "      <td>...</td>\n",
       "      <td>986300.0</td>\n",
       "      <td>2012-01-06</td>\n",
       "      <td>26.91</td>\n",
       "      <td>-0.29</td>\n",
       "      <td>2012</td>\n",
       "      <td>1</td>\n",
       "      <td>1</td>\n",
       "      <td>6</td>\n",
       "      <td>4</td>\n",
       "      <td>6</td>\n",
       "    </tr>\n",
       "    <tr>\n",
       "      <th>2012-01-09</th>\n",
       "      <td>2012-01-09</td>\n",
       "      <td>2012-01-09</td>\n",
       "      <td>27.00</td>\n",
       "      <td>27.49</td>\n",
       "      <td>26.12</td>\n",
       "      <td>27.25</td>\n",
       "      <td>897000.0</td>\n",
       "      <td>0.0</td>\n",
       "      <td>1.0</td>\n",
       "      <td>27.00</td>\n",
       "      <td>...</td>\n",
       "      <td>897000.0</td>\n",
       "      <td>2012-01-09</td>\n",
       "      <td>27.25</td>\n",
       "      <td>0.25</td>\n",
       "      <td>2012</td>\n",
       "      <td>1</td>\n",
       "      <td>2</td>\n",
       "      <td>9</td>\n",
       "      <td>0</td>\n",
       "      <td>9</td>\n",
       "    </tr>\n",
       "  </tbody>\n",
       "</table>\n",
       "<p>5 rows × 23 columns</p>\n",
       "</div>"
      ],
      "text/plain": [
       "                  Date      Date.1   Open   High    Low  Close     Volume  \\\n",
       "Date                                                                        \n",
       "2012-01-03  2012-01-03  2012-01-03  28.94  29.50  27.65  28.08   928100.0   \n",
       "2012-01-04  2012-01-04  2012-01-04  28.21  28.67  27.50  27.71   630100.0   \n",
       "2012-01-05  2012-01-05  2012-01-05  27.76  27.93  26.85  27.12  1005500.0   \n",
       "2012-01-06  2012-01-06  2012-01-06  27.20  27.79  26.41  26.91   986300.0   \n",
       "2012-01-09  2012-01-09  2012-01-09  27.00  27.49  26.12  27.25   897000.0   \n",
       "\n",
       "            Ex-Dividend  Split Ratio  Adj. Open  ...  Adj. Volume          ds  \\\n",
       "Date                                             ...                            \n",
       "2012-01-03          0.0          1.0      28.94  ...     928100.0  2012-01-03   \n",
       "2012-01-04          0.0          1.0      28.21  ...     630100.0  2012-01-04   \n",
       "2012-01-05          0.0          1.0      27.76  ...    1005500.0  2012-01-05   \n",
       "2012-01-06          0.0          1.0      27.20  ...     986300.0  2012-01-06   \n",
       "2012-01-09          0.0          1.0      27.00  ...     897000.0  2012-01-09   \n",
       "\n",
       "                y  Daily Change  Year  Month  Week  Day  Dayofweek  Dayofyear  \n",
       "Date                                                                           \n",
       "2012-01-03  28.08         -0.86  2012      1     1    3          1          3  \n",
       "2012-01-04  27.71         -0.50  2012      1     1    4          2          4  \n",
       "2012-01-05  27.12         -0.64  2012      1     1    5          3          5  \n",
       "2012-01-06  26.91         -0.29  2012      1     1    6          4          6  \n",
       "2012-01-09  27.25          0.25  2012      1     2    9          0          9  \n",
       "\n",
       "[5 rows x 23 columns]"
      ]
     },
     "execution_count": 34,
     "metadata": {},
     "output_type": "execute_result"
    }
   ],
   "source": [
    "df.head()"
   ]
  },
  {
   "cell_type": "markdown",
   "metadata": {
    "hidden": true
   },
   "source": [
    "## Define function"
   ]
  },
  {
   "cell_type": "code",
   "execution_count": 29,
   "metadata": {
    "ExecuteTime": {
     "end_time": "2020-10-09T15:24:47.719918Z",
     "start_time": "2020-10-09T15:24:47.711831Z"
    },
    "hidden": true
   },
   "outputs": [],
   "source": [
    "def rmse(x,y): \n",
    "    return math.sqrt(((x-y)**2).mean())\n",
    "\n",
    "def print_score(m):\n",
    "    res = [rmse(m.predict(X_train), t_train), rmse(m.predict(X_val), t_val),\n",
    "                m.score(X_train, t_train), m.score(X_val, t_val)]\n",
    "    print(f\"rmse train {res[0]}, rmse val {res[1]}, r^2 train {res[2]}, r^2 val {res[3]}\")"
   ]
  },
  {
   "cell_type": "markdown",
   "metadata": {},
   "source": [
    "# Random Forest"
   ]
  },
  {
   "cell_type": "markdown",
   "metadata": {},
   "source": [
    "## Try to predict using a Single Decision Tree"
   ]
  },
  {
   "cell_type": "code",
   "execution_count": 30,
   "metadata": {
    "ExecuteTime": {
     "end_time": "2020-10-09T15:24:48.231785Z",
     "start_time": "2020-10-09T15:24:48.224573Z"
    }
   },
   "outputs": [
    {
     "data": {
      "text/plain": [
       "Index(['Date', 'Date.1', 'Open', 'High', 'Low', 'Close', 'Volume',\n",
       "       'Ex-Dividend', 'Split Ratio', 'Adj. Open', 'Adj. High', 'Adj. Low',\n",
       "       'Adj. Close', 'Adj. Volume', 'ds', 'y', 'Daily Change', 'Year', 'Month',\n",
       "       'Week', 'Day', 'Dayofweek', 'Dayofyear'],\n",
       "      dtype='object')"
      ]
     },
     "execution_count": 30,
     "metadata": {},
     "output_type": "execute_result"
    }
   ],
   "source": [
    "df.columns"
   ]
  },
  {
   "cell_type": "code",
   "execution_count": 31,
   "metadata": {
    "ExecuteTime": {
     "end_time": "2020-10-09T15:24:48.512707Z",
     "start_time": "2020-10-09T15:24:48.502315Z"
    }
   },
   "outputs": [],
   "source": [
    "n_total = df.count()[0]\n",
    "n_valid = 180 # Six months\n",
    "n_train = n_total - n_valid\n",
    "\n",
    "# In this case, I would like to predict the stock price by using OLHC Data\n",
    "features = ['Adj. Open', 'Adj. Low', 'Adj. High', 'Adj. Close']\n",
    "df_small = df\n",
    "X_df = df_small[features]\n",
    "t_df = df_small['y']\n",
    "\n",
    "X_train, X_val = X_df[:n_train].to_numpy(), X_df[n_train:].to_numpy()\n",
    "t_train, t_val = t_df[:n_train].to_numpy(), t_df[n_train:].to_numpy()"
   ]
  },
  {
   "cell_type": "code",
   "execution_count": 32,
   "metadata": {
    "ExecuteTime": {
     "end_time": "2020-10-09T15:24:48.767853Z",
     "start_time": "2020-10-09T15:24:48.755864Z"
    }
   },
   "outputs": [
    {
     "data": {
      "text/plain": [
       "RandomForestRegressor(bootstrap=True, ccp_alpha=0.0, criterion='mse',\n",
       "                      max_depth=None, max_features='auto', max_leaf_nodes=None,\n",
       "                      max_samples=None, min_impurity_decrease=0.0,\n",
       "                      min_impurity_split=None, min_samples_leaf=25,\n",
       "                      min_samples_split=2, min_weight_fraction_leaf=0.0,\n",
       "                      n_estimators=1, n_jobs=None, oob_score=False,\n",
       "                      random_state=None, verbose=0, warm_start=False)"
      ]
     },
     "execution_count": 32,
     "metadata": {},
     "output_type": "execute_result"
    }
   ],
   "source": [
    "from sklearn import metrics\n",
    "from sklearn.ensemble import RandomForestRegressor\n",
    "\n",
    "model = RandomForestRegressor(n_estimators = 1, bootstrap = True, min_samples_leaf = 25)\n",
    "model.fit(X_train, t_train)"
   ]
  },
  {
   "cell_type": "code",
   "execution_count": 33,
   "metadata": {
    "ExecuteTime": {
     "end_time": "2020-10-09T15:24:49.337877Z",
     "start_time": "2020-10-09T15:24:49.327472Z"
    }
   },
   "outputs": [
    {
     "name": "stdout",
     "output_type": "stream",
     "text": [
      "rmse train 5.150626113476439, rmse val 4.382942883692601, r^2 train 0.9965165047631718, r^2 val 0.9729952809567858\n"
     ]
    }
   ],
   "source": [
    "print_score(model)"
   ]
  },
  {
   "cell_type": "code",
   "execution_count": 37,
   "metadata": {
    "ExecuteTime": {
     "end_time": "2020-10-09T15:27:27.486534Z",
     "start_time": "2020-10-09T15:27:27.452394Z"
    }
   },
   "outputs": [
    {
     "data": {
      "text/plain": [
       "6"
      ]
     },
     "execution_count": 37,
     "metadata": {},
     "output_type": "execute_result"
    }
   ],
   "source": [
    "model.estimators_[0].get_depth()"
   ]
  },
  {
   "cell_type": "markdown",
   "metadata": {},
   "source": [
    "The result is not bad, *RMSE* is pretty low and $R^2$ is close to 1. \n",
    "\n",
    "This random forest is a single decision tree with depth of 6 and at least 25 samples in each leaf node. We enabled bootstrapping to avoid overfitting. \n",
    "\n",
    "I believe the model could be optimized using Random Forest, as it it constructed by some decision trees using bagging."
   ]
  },
  {
   "cell_type": "markdown",
   "metadata": {
    "heading_collapsed": true
   },
   "source": [
    "## Try Random Forest"
   ]
  },
  {
   "cell_type": "code",
   "execution_count": 39,
   "metadata": {
    "ExecuteTime": {
     "end_time": "2020-10-09T15:33:40.838247Z",
     "start_time": "2020-10-09T15:33:40.714085Z"
    },
    "hidden": true
   },
   "outputs": [
    {
     "name": "stdout",
     "output_type": "stream",
     "text": [
      "rmse train 3.9034098186634734, rmse val 2.4245026785986763, r^2 train 0.9979992930963252, r^2 val 0.9917367027160658\n"
     ]
    }
   ],
   "source": [
    "model = RandomForestRegressor(n_estimators=40, bootstrap=True, min_samples_leaf=25)\n",
    "model.fit(X_train, t_train)\n",
    "\n",
    "print_score(model)"
   ]
  },
  {
   "cell_type": "markdown",
   "metadata": {
    "hidden": true
   },
   "source": [
    "We see a slight improvement in *RMSE* and $R^2$ for both training and validation data. It is a better model!\n",
    "\n",
    "Now let's try to plot out our prediction."
   ]
  },
  {
   "cell_type": "code",
   "execution_count": 54,
   "metadata": {
    "ExecuteTime": {
     "end_time": "2020-10-09T15:52:26.311529Z",
     "start_time": "2020-10-09T15:52:26.299026Z"
    },
    "hidden": true
   },
   "outputs": [
    {
     "data": {
      "text/plain": [
       "(221.6080401416136, 222.1485555555556)"
      ]
     },
     "execution_count": 54,
     "metadata": {},
     "output_type": "execute_result"
    }
   ],
   "source": [
    "np.mean(model.predict(X_val)), np.mean(t_val)"
   ]
  },
  {
   "cell_type": "code",
   "execution_count": 52,
   "metadata": {
    "ExecuteTime": {
     "end_time": "2020-10-09T15:46:51.022269Z",
     "start_time": "2020-10-09T15:46:49.372339Z"
    },
    "hidden": true
   },
   "outputs": [
    {
     "data": {
      "image/png": "[encoded data removed]",
      "text/plain": [
       "<Figure size 432x288 with 1 Axes>"
      ]
     },
     "metadata": {
      "needs_background": "light"
     },
     "output_type": "display_data"
    }
   ],
   "source": [
    "plt.plot(df_small['Date'][n_train:], model.predict(X_val), 'r-')\n",
    "plt.plot(df_small['Date'][n_train:], t_val, 'g--')\n",
    "plt.xlabel('Time')\n",
    "plt.ylabel('Price')\n",
    "plt.show()"
   ]
  },
  {
   "cell_type": "markdown",
   "metadata": {
    "heading_collapsed": true
   },
   "source": [
    "## Try to use GridSearch for model selection"
   ]
  },
  {
   "cell_type": "code",
   "execution_count": 59,
   "metadata": {
    "ExecuteTime": {
     "end_time": "2020-10-09T16:00:10.809212Z",
     "start_time": "2020-10-09T16:00:04.502966Z"
    },
    "hidden": true
   },
   "outputs": [
    {
     "data": {
      "text/plain": [
       "GridSearchCV(cv=None, error_score=nan,\n",
       "             estimator=RandomForestRegressor(bootstrap=True, ccp_alpha=0.0,\n",
       "                                             criterion='mse', max_depth=None,\n",
       "                                             max_features='auto',\n",
       "                                             max_leaf_nodes=None,\n",
       "                                             max_samples=None,\n",
       "                                             min_impurity_decrease=0.0,\n",
       "                                             min_impurity_split=None,\n",
       "                                             min_samples_leaf=1,\n",
       "                                             min_samples_split=2,\n",
       "                                             min_weight_fraction_leaf=0.0,\n",
       "                                             n_estimators=100, n_jobs=None,\n",
       "                                             oob_score=False, random_state=None,\n",
       "                                             verbose=0, warm_start=False),\n",
       "             iid='deprecated', n_jobs=None,\n",
       "             param_grid={'min_samples_leaf': [20, 25, 30, 40],\n",
       "                         'n_estimators': [30, 40, 50, 60]},\n",
       "             pre_dispatch='2*n_jobs', refit=True, return_train_score=False,\n",
       "             scoring=None, verbose=0)"
      ]
     },
     "execution_count": 59,
     "metadata": {},
     "output_type": "execute_result"
    }
   ],
   "source": [
    "from sklearn.model_selection import GridSearchCV\n",
    "\n",
    "parameters = {\n",
    "    'n_estimators': [30, 40, 50, 60],\n",
    "    'min_samples_leaf': [20, 25, 30, 40]\n",
    "}\n",
    "\n",
    "rf = RandomForestRegressor(bootstrap = True)\n",
    "clf = GridSearchCV(rf, parameters)\n",
    "clf.fit(X_train, t_train)"
   ]
  },
  {
   "cell_type": "code",
   "execution_count": 61,
   "metadata": {
    "ExecuteTime": {
     "end_time": "2020-10-09T16:00:49.514536Z",
     "start_time": "2020-10-09T16:00:49.508164Z"
    },
    "hidden": true
   },
   "outputs": [
    {
     "data": {
      "text/plain": [
       "{'min_samples_leaf': 20, 'n_estimators': 40}"
      ]
     },
     "execution_count": 61,
     "metadata": {},
     "output_type": "execute_result"
    }
   ],
   "source": [
    "clf.best_params_"
   ]
  },
  {
   "cell_type": "code",
   "execution_count": 77,
   "metadata": {
    "ExecuteTime": {
     "end_time": "2020-10-09T16:26:43.241220Z",
     "start_time": "2020-10-09T16:26:43.134089Z"
    },
    "hidden": true
   },
   "outputs": [
    {
     "name": "stdout",
     "output_type": "stream",
     "text": [
      "rmse train 154.7236114644389, rmse val 196.61044864752793\n"
     ]
    }
   ],
   "source": [
    "best_model = RandomForestRegressor(n_estimators = 40, bootstrap = True, min_samples_leaf = 20)\n",
    "best_model.fit(X_train, t_train)\n",
    "print_score(best_model)"
   ]
  },
  {
   "cell_type": "code",
   "execution_count": 78,
   "metadata": {
    "ExecuteTime": {
     "end_time": "2020-10-09T16:26:45.532053Z",
     "start_time": "2020-10-09T16:26:43.910632Z"
    },
    "hidden": true
   },
   "outputs": [
    {
     "data": {
      "image/png": "[encoded data removed]",
      "text/plain": [
       "<Figure size 432x288 with 1 Axes>"
      ]
     },
     "metadata": {
      "needs_background": "light"
     },
     "output_type": "display_data"
    }
   ],
   "source": [
    "plt.plot(df_small['Date'][n_train:], best_model.predict(X_val), 'r-')\n",
    "plt.plot(df_small['Date'][n_train:], t_val, 'g--')\n",
    "plt.xlabel('Time')\n",
    "plt.ylabel('Price')\n",
    "plt.show()"
   ]
  },
  {
   "cell_type": "markdown",
   "metadata": {
    "hidden": true
   },
   "source": [
    "This model is another great improvement. This tells us the importance of trying different parameters in order to get a better model."
   ]
  },
  {
   "cell_type": "markdown",
   "metadata": {
    "heading_collapsed": true
   },
   "source": [
    "# KNN"
   ]
  },
  {
   "cell_type": "markdown",
   "metadata": {
    "hidden": true
   },
   "source": [
    "Lastly, we will try K-nearest neighbors to predict the stock price."
   ]
  },
  {
   "cell_type": "code",
   "execution_count": 67,
   "metadata": {
    "ExecuteTime": {
     "end_time": "2020-10-09T16:16:37.884301Z",
     "start_time": "2020-10-09T16:16:37.878454Z"
    },
    "hidden": true
   },
   "outputs": [],
   "source": [
    "from sklearn.neighbors import KNeighborsRegressor\n",
    "from sklearn.preprocessing import MinMaxScaler\n",
    "\n",
    "# It is important to scale the data for kNN\n",
    "scaler = MinMaxScaler(feature_range = (0, 1))\n",
    "\n",
    "X_train_scaled = scaler.fit_transform(X_train)\n",
    "X_val_scaled = scaler.fit_transform(X_val)"
   ]
  },
  {
   "cell_type": "code",
   "execution_count": 68,
   "metadata": {
    "ExecuteTime": {
     "end_time": "2020-10-09T16:16:38.214632Z",
     "start_time": "2020-10-09T16:16:38.107161Z"
    },
    "hidden": true
   },
   "outputs": [
    {
     "data": {
      "text/plain": [
       "{'n_neighbors': 2}"
      ]
     },
     "execution_count": 68,
     "metadata": {},
     "output_type": "execute_result"
    }
   ],
   "source": [
    "params = {'n_neighbors': [2, 3, 4, 5, 6, 7, 8, 9]}\n",
    "knn = KNeighborsRegressor()\n",
    "clf = GridSearchCV(knn, params, cv = 5)\n",
    "\n",
    "clf.fit(X_train_scaled, t_train)\n",
    "clf.best_params_"
   ]
  },
  {
   "cell_type": "code",
   "execution_count": 79,
   "metadata": {
    "ExecuteTime": {
     "end_time": "2020-10-09T16:27:14.103681Z",
     "start_time": "2020-10-09T16:27:14.098133Z"
    },
    "hidden": true
   },
   "outputs": [],
   "source": [
    "best_model = KNeighborsRegressor(n_neighbors = 2)\n",
    "best_model.fit(X_train_scaled, t_train)\n",
    "\n",
    "def print_score(m):\n",
    "    res = [rmse(m.predict(X_train_scaled), t_train), rmse(m.predict(X_val_scaled), t_val)]\n",
    "    print(f\"rmse train {res[0]}, rmse val {res[1]}\")"
   ]
  },
  {
   "cell_type": "code",
   "execution_count": 80,
   "metadata": {
    "ExecuteTime": {
     "end_time": "2020-10-09T16:27:14.604706Z",
     "start_time": "2020-10-09T16:27:14.595378Z"
    },
    "hidden": true
   },
   "outputs": [
    {
     "name": "stdout",
     "output_type": "stream",
     "text": [
      "rmse train 0.596753984777006, rmse val 100.14868004648451\n"
     ]
    }
   ],
   "source": [
    "print_score(best_model)"
   ]
  },
  {
   "cell_type": "markdown",
   "metadata": {
    "hidden": true
   },
   "source": [
    "It seems that K-nearest neighbors is not a good algorithm for predicting this dataset. It is a highly overfitting model. Random Forest is a better choice. "
   ]
  },
  {
   "cell_type": "code",
   "execution_count": null,
   "metadata": {
    "hidden": true
   },
   "outputs": [],
   "source": []
  }
 ],
 "metadata": {
  "kernelspec": {
   "display_name": "Python 3",
   "language": "python",
   "name": "python3"
  },
  "language_info": {
   "codemirror_mode": {
    "name": "ipython",
    "version": 3
   },
   "file_extension": ".py",
   "mimetype": "text/x-python",
   "name": "python",
   "nbconvert_exporter": "python",
   "pygments_lexer": "ipython3",
   "version": "3.7.6"
  },
  "toc": {
   "base_numbering": 1,
   "nav_menu": {},
   "number_sections": true,
   "sideBar": true,
   "skip_h1_title": false,
   "title_cell": "Table of Contents",
   "title_sidebar": "Contents",
   "toc_cell": false,
   "toc_position": {},
   "toc_section_display": true,
   "toc_window_display": false
  },
  "varInspector": {
   "cols": {
    "lenName": 16,
    "lenType": 16,
    "lenVar": 40
   },
   "kernels_config": {
    "python": {
     "delete_cmd_postfix": "",
     "delete_cmd_prefix": "del ",
     "library": "var_list.py",
     "varRefreshCmd": "print(var_dic_list())"
    },
    "r": {
     "delete_cmd_postfix": ") ",
     "delete_cmd_prefix": "rm(",
     "library": "var_list.r",
     "varRefreshCmd": "cat(var_dic_list()) "
    }
   },
   "types_to_exclude": [
    "module",
    "function",
    "builtin_function_or_method",
    "instance",
    "_Feature"
   ],
   "window_display": false
  }
 },
 "nbformat": 4,
 "nbformat_minor": 4
}
